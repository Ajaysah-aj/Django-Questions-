{
 "cells": [
  {
   "cell_type": "markdown",
   "id": "8852a197-1215-4b95-91a9-79d87fbe796b",
   "metadata": {},
   "source": [
    "Topic: Django Signals\r\n"
   ]
  },
  {
   "cell_type": "markdown",
   "id": "5011f36c-d309-4e5e-bf4d-7a0f5b56262f",
   "metadata": {},
   "source": [
    "Question 1: By default are django signals executed synchronously or asynchronously? Please support your answer with a code snippet that conclusively proves your stance. The code does not need to be elegant and production ready, we just need to understand your logic."
   ]
  },
  {
   "cell_type": "markdown",
   "id": "78adb05e-59b3-4f66-bd00-5568a17bdd69",
   "metadata": {},
   "source": [
    "By default, Django signals are executed synchronously. This means that the signal handler runs in the same process and waits for it to complete before moving forward.\n",
    "\n",
    "Code Snippet to Prove:"
   ]
  },
  {
   "cell_type": "code",
   "execution_count": null,
   "id": "9ae4c529-34ee-4968-8274-6c6c2f4eb63c",
   "metadata": {},
   "outputs": [],
   "source": [
    "import time\n",
    "from django.core.signals import request_finished\n",
    "from django.dispatch import receiver\n",
    "\n",
    "@receiver(request_finished)\n",
    "def my_signal_handler(sender, **kwargs):\n",
    "    print(\"Signal received!\")\n",
    "    time.sleep(5)  # Simulate a long-running task\n",
    "    print(\"Signal handler finished!\")\n",
    "\n",
    "# Simulate a request that triggers the signal\n",
    "from django.test import Client\n",
    "client = Client()\n",
    "response = client.get('/')\n",
    "\n",
    "print(\"Request finished!\")\n"
   ]
  },
  {
   "cell_type": "markdown",
   "id": "df93d0e6-d898-42c2-a940-a18f5d5f1c6c",
   "metadata": {},
   "source": [
    "Question 2: Do django signals run in the same thread as the caller? Please support your answer with a code snippet that conclusively proves your stance. The code does not need to be elegant and production ready, we just need to understand your logic.\r\n",
    "\r\n"
   ]
  },
  {
   "cell_type": "markdown",
   "id": "eea85ead-8471-4117-aff8-683cbff911ae",
   "metadata": {},
   "source": [
    "Yes, by default, Django signals run in the same thread as the caller.\n",
    "\n",
    "\n",
    "Code Snippet to Prove:"
   ]
  },
  {
   "cell_type": "code",
   "execution_count": null,
   "id": "ea464424-6e2f-4aa9-8df2-9796eaf82563",
   "metadata": {},
   "outputs": [],
   "source": [
    "import threading\n",
    "from django.core.signals import request_finished\n",
    "from django.dispatch import receiver\n",
    "\n",
    "@receiver(request_finished)\n",
    "def my_signal_handler(sender, **kwargs):\n",
    "    print(f\"Signal received in thread: {threading.current_thread().name}\")\n",
    "\n",
    "# Simulate a request that triggers the signal\n",
    "from django.test import Client\n",
    "client = Client()\n",
    "\n",
    "# Print the thread before sending the request\n",
    "print(f\"Request made from thread: {threading.current_thread().name}\")\n",
    "\n",
    "response = client.get('/')\n"
   ]
  },
  {
   "cell_type": "markdown",
   "id": "c5d4bf93-760b-4b95-acd8-4d8bad1934f8",
   "metadata": {},
   "source": [
    "Question 3: By default do django signals run in the same database transaction as the caller? Please support your answer with a code snippet that conclusively proves your stance. The code does not need to be elegant and production ready, we just need to understand your logic.\r\n"
   ]
  },
  {
   "cell_type": "markdown",
   "id": "5154f024-ba78-4b6d-8fc1-3176958ff089",
   "metadata": {},
   "source": [
    "By default, Django signals are not guaranteed to run in the same database transaction as the caller unless explicitly wrapped in a transaction using Django’s transaction management. However, post_save and other similar signals related to model saving are executed after the database commit.\n",
    "\n",
    "Code Snippet to Prove:"
   ]
  },
  {
   "cell_type": "code",
   "execution_count": null,
   "id": "2a57d426-2350-40e1-8c08-0989497d7644",
   "metadata": {},
   "outputs": [],
   "source": [
    "from django.db import transaction\n",
    "from django.db.models.signals import post_save\n",
    "from django.dispatch import receiver\n",
    "from django.contrib.auth.models import User\n",
    "\n",
    "@receiver(post_save, sender=User)\n",
    "def my_signal_handler(sender, instance, created, **kwargs):\n",
    "    if created:\n",
    "        print(\"Signal received after user is saved to DB!\")\n",
    "        print(f\"User ID in signal handler: {instance.id}\")\n",
    "\n",
    "def create_user_with_transaction():\n",
    "    print(\"Starting transaction...\")\n",
    "    with transaction.atomic():\n",
    "        user = User.objects.create(username=\"testuser\")\n",
    "        print(f\"User created in DB with ID: {user.id}\")\n",
    "        print(\"Transaction block completed!\")\n",
    "\n",
    "create_user_with_transaction()\n"
   ]
  },
  {
   "cell_type": "markdown",
   "id": "073273b7-f3a2-418b-aa38-da56aa9b3a31",
   "metadata": {},
   "source": [
    "Topic: Custom Classes in Python\r\n",
    "\r\n"
   ]
  },
  {
   "cell_type": "markdown",
   "id": "a29672e1-568a-4947-80a1-8caf08beaa1d",
   "metadata": {},
   "source": [
    "Description: You are tasked with creating a Rectangle class with the following requirements:\r\n",
    "1.\r\n",
    "An instance of the Rectangle class requires length:int and width:int to be initialized2..\r\n",
    "We can iterate over an instance of the Rectangle clas3.s \r\n",
    "When an instance of the Rectangle class is iterated over, we first get its length in the format: {'length': <VALUE_OF_LENGTH>} followed by the wi   dth {width: <VALUE_OF_WIDTH>}\r\n",
    "\r\n"
   ]
  },
  {
   "cell_type": "code",
   "execution_count": 1,
   "id": "8713a38d-697c-4100-b44f-eddb3c9c7956",
   "metadata": {},
   "outputs": [
    {
     "name": "stdout",
     "output_type": "stream",
     "text": [
      "{'length': 10}\n",
      "{'width': 5}\n"
     ]
    }
   ],
   "source": [
    "class Rectangle:\n",
    "    def __init__(self, length: int, width: int):\n",
    "        # Initialize length and width\n",
    "        self.length = length\n",
    "        self.width = width\n",
    "\n",
    "    def __iter__(self):\n",
    "        # Create a list of dictionaries to iterate over\n",
    "        self._attributes = [{'length': self.length}, {'width': self.width}]\n",
    "        self._index = 0  # Index to track iteration\n",
    "        return self\n",
    "\n",
    "    def __next__(self):\n",
    "        # If we have reached the end of the attributes list, stop iteration\n",
    "        if self._index >= len(self._attributes):\n",
    "            raise StopIteration\n",
    "        # Return the current attribute and increment the index\n",
    "        attribute = self._attributes[self._index]\n",
    "        self._index += 1\n",
    "        return attribute\n",
    "\n",
    "# Example usage:\n",
    "rectangle = Rectangle(10, 5)\n",
    "\n",
    "for attr in rectangle:\n",
    "    print(attr)\n"
   ]
  },
  {
   "cell_type": "code",
   "execution_count": null,
   "id": "3440d50c-b14e-41bd-a90c-6767fd9b39c2",
   "metadata": {},
   "outputs": [],
   "source": []
  }
 ],
 "metadata": {
  "kernelspec": {
   "display_name": "Python 3 (ipykernel)",
   "language": "python",
   "name": "python3"
  },
  "language_info": {
   "codemirror_mode": {
    "name": "ipython",
    "version": 3
   },
   "file_extension": ".py",
   "mimetype": "text/x-python",
   "name": "python",
   "nbconvert_exporter": "python",
   "pygments_lexer": "ipython3",
   "version": "3.12.4"
  }
 },
 "nbformat": 4,
 "nbformat_minor": 5
}
